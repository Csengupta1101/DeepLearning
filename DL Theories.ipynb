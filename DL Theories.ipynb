{
 "cells": [
  {
   "attachments": {},
   "cell_type": "markdown",
   "metadata": {},
   "source": [
    "#### Deep Learning\n",
    "##### ANN - Artificial Neural Network\n",
    "* Neurons are the center point\n",
    "* Dendrites are the reciever of signal for the neuron\n",
    "* Axon is the transmitter of signal for the neuron\n",
    "* Dendrites of one neuron is connected with axon of other neurons \n",
    "* Signal from one neuron passes from it's axon and is recived by other neuron's dendrites , this is how transmission happen.\n",
    "* While transmitting the axon deosn't really touch the dendrites , and this transmission point is called Synapse.\n",
    "* In Machine learning The neuron gets the input from multiple inpur layers\n",
    "* These input layers are neurons as well \n",
    "* The point of receiving the input is called Synapse as described above\n",
    "* All the input layers are independent variables\n",
    "* Before processing the input layers to the neuron , we need to standardize/normalize them\n",
    "* All the input variables here are of the same record. meaning for a single person's details the input variables can be his age , salary etc etc but in the end the input is for that person only\n",
    "* Same way the output variable also stays for only one record only.\n",
    "* Output variable can be continuous/binary/categorical(more than two)\n",
    "* Every single input variable when being transmitted to the neuron via synapse is assigned a weight (similar to co efficient)\n",
    "* This weight determines which signal/input is more important than others\n",
    "* Once the signal is passed from the input variables to the Neuron , neuron does two things\n",
    "    -   Calculate and stores the weighted sum of the input variables\n",
    "    -   Perform activation function in these variable's weighte sum."
   ]
  },
  {
   "cell_type": "markdown",
   "metadata": {},
   "source": [
    "* Activation Function\n",
    "\n",
    "    -   Thresold Function \n",
    "        - This is a simple function , where the output is basically binary , 1 or 0. If the weighted sum value of input variable comes as less than zero then it passes on 0 in the output value/next neuron\n",
    "        - If the value turns out more than 0 then we pass 1 to the ouput value/next neuron\n",
    "    -   Sigmoid Function \n",
    "        - Unlike Thresold function , the sigmoid function's separation is curved and here any output value that comes below zero gets dropped off and value more than is calculated in near aproximity of 1.\n",
    "    -   Rectifier Function\n",
    "        - In this function the graph from 0 to 1 is a linear growth curve , however the section of 0 remains flat..\n",
    "    -   Hyperbolic Tangent Function(tanh)\n",
    "        - This function is similar to the sigmoid function but in here the classification is not bound within 0 and 1. In spreads from 1,0,-1\n",
    "\n",
    "* Generic Statement -\n",
    "    -   In the hidden layer , rectifier activation function is used\n",
    "    -   In the output layer we use sigmoid fuction.\n",
    "\n",
    "* ANN Learning Process -\n",
    "    -   Back Propagation - neural networks predicts an out put , the same out is compared with actual data present. The differnece between actual and predicted forms the cost function. To reduce the cost function and improve the accuracy of the model the neurons send data backwards to the input layer , where weights/co efficient values of input varibles are adjusted to reduce cost function.\n",
    "    -   Brute Force Method - In this method , multiple sample weightage is taken and the input variable is looped through all these weighted variables , the best output will likely to have minimum cost function in place."
   ]
  },
  {
   "cell_type": "markdown",
   "metadata": {},
   "source": [
    "*   Gradient descent -\n",
    "        \n",
    "        This is a function for adjusting the weights of the input variables for ANN Learning.  let's imagine you're at the top of a hill, and you want to get to the bottom. You close your eyes and take a step in the steepest direction downhill. After each step, you open your eyes, see where you are, and repeat the process. That's like what a gradient descent algorithm does, but with a twist!\n",
    "        Imagine you're blindfolded, and you can only feel the slope under your feet. The slope tells you which way is downhill. So, with each step, you move in the direction where the ground is going down the fastest.\n",
    "        \n",
    "*   Stochastic Gradient descent -\n",
    "        \n",
    "        Now, imagine the hill is not a perfect slope but has some bumps and irregularities. In stochastic gradient descent, instead of using the exact slope of the entire hill, you randomly choose a small part of the hill to feel. You take steps based on that part and repeat the process."
   ]
  },
  {
   "cell_type": "code",
   "execution_count": 1,
   "metadata": {},
   "outputs": [
    {
     "data": {
      "image/png": "[encoded data removed]",
      "text/plain": [
       "<Figure size 432x288 with 1 Axes>"
      ]
     },
     "metadata": {
      "needs_background": "light"
     },
     "output_type": "display_data"
    },
    {
     "name": "stdout",
     "output_type": "stream",
     "text": [
      "Epoch 0, Cost: 31.05122771929505\n",
      "Epoch 10, Cost: 5.290375013899619\n",
      "Epoch 20, Cost: 5.079516575086108\n",
      "Epoch 30, Cost: 4.892221473350544\n",
      "Epoch 40, Cost: 4.715052176966822\n",
      "Epoch 50, Cost: 4.547455453953592\n",
      "Epoch 60, Cost: 4.388914088968157\n",
      "Epoch 70, Cost: 4.2389388152290195\n",
      "Epoch 80, Cost: 4.097066801353047\n",
      "Epoch 90, Cost: 3.9628602230324517\n"
     ]
    },
    {
     "data": {
      "image/png": "[encoded data removed]",
      "text/plain": [
       "<Figure size 432x288 with 1 Axes>"
      ]
     },
     "metadata": {
      "needs_background": "light"
     },
     "output_type": "display_data"
    }
   ],
   "source": [
    "''' \n",
    "Real-world use case: Linear Regression\n",
    "Suppose we have data points representing the relationship between the number of hours a student studies and \n",
    "their exam scores. We want to find the best-fitting line (a straight line) \n",
    "that predicts exam scores based on the number of hours studied.\n",
    "'''\n",
    "\n",
    "import numpy as np\n",
    "import matplotlib.pyplot as plt\n",
    "\n",
    "# Generate random data for illustration\n",
    "np.random.seed(42)\n",
    "hours_studied = np.random.rand(100, 1) * 10\n",
    "exam_scores = 2 * hours_studied + 5 + np.random.randn(100, 1) * 2\n",
    "\n",
    "# Visualize the data\n",
    "plt.scatter(hours_studied, exam_scores)\n",
    "plt.xlabel('Hours Studied')\n",
    "plt.ylabel('Exam Scores')\n",
    "plt.title('Linear Regression Data')\n",
    "plt.show()\n",
    "\n",
    "# Initialize parameters for linear regression\n",
    "theta0 = np.random.randn()\n",
    "theta1 = np.random.randn()\n",
    "\n",
    "# Set hyperparameters\n",
    "learning_rate = 0.01\n",
    "epochs = 100\n",
    "\n",
    "# Gradient Descent\n",
    "for epoch in range(epochs):\n",
    "    # Calculate predictions\n",
    "    predictions = theta0 + theta1 * hours_studied\n",
    "    \n",
    "    # Calculate the error\n",
    "    error = predictions - exam_scores\n",
    "    \n",
    "    # Update parameters using gradients\n",
    "    theta0 = theta0 - learning_rate * np.mean(error)\n",
    "    theta1 = theta1 - learning_rate * np.mean(error * hours_studied)\n",
    "    \n",
    "    # Print progress every 10 epochs\n",
    "    if epoch % 10 == 0:\n",
    "        cost = 0.5 * np.mean(error**2)\n",
    "        print(f'Epoch {epoch}, Cost: {cost}')\n",
    "\n",
    "# Visualize the fitted line\n",
    "plt.scatter(hours_studied, exam_scores)\n",
    "plt.plot(hours_studied, theta0 + theta1 * hours_studied, color='red', linewidth=2)\n",
    "plt.xlabel('Hours Studied')\n",
    "plt.ylabel('Exam Scores')\n",
    "plt.title('Linear Regression Fit')\n",
    "plt.show()"
   ]
  }
 ],
 "metadata": {
  "kernelspec": {
   "display_name": "Python 3",
   "language": "python",
   "name": "python3"
  },
  "language_info": {
   "codemirror_mode": {
    "name": "ipython",
    "version": 3
   },
   "file_extension": ".py",
   "mimetype": "text/x-python",
   "name": "python",
   "nbconvert_exporter": "python",
   "pygments_lexer": "ipython3",
   "version": "3.10.8"
  },
  "orig_nbformat": 4,
  "vscode": {
   "interpreter": {
    "hash": "c715fae038ea3023ce1b7da7ba9885d98010e1b6ab84c7b957e0940952b2221c"
   }
  }
 },
 "nbformat": 4,
 "nbformat_minor": 2
}
