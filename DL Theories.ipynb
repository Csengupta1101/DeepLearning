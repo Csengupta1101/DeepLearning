{
 "cells": [
  {
   "attachments": {},
   "cell_type": "markdown",
   "metadata": {},
   "source": [
    "#### Deep Learning\n",
    "##### ANN - Artificial Neural Network\n",
    "* Neurons are the center point\n",
    "* Dendrites are the reciever of signal for the neuron\n",
    "* Axon is the transmitter of signal for the neuron\n",
    "* Dendrites of one neuron is connected with axon of other neurons \n",
    "* Signal from one neuron passes from it's axon and is recived by other neuron's dendrites , this is how transmission happen.\n",
    "* While transmitting the axon deosn't really touch the dendrites , and this transmission point is called Synapse.\n",
    "* In Machine learning The neuron gets the input from multiple inpur layers\n",
    "* These input layers are neurons as well \n",
    "* The point of receiving the input is called Synapse as described above\n",
    "* All the input layers are independent variables\n",
    "* Before processing the input layers to the neuron , we need to standardize/normalize them\n",
    "* All the input variables here are of the same record. meaning for a single person's details the input variables can be his age , salary etc etc but in the end the input is for that person only\n",
    "* Same way the output variable also stays for only one record only.\n",
    "* Output variable can be continuous/binary/categorical(more than two)\n",
    "* Every single input variable when being transmitted to the neuron via synapse is assigned a weight (similar to co efficient)\n",
    "* This weight determines which signal/input is more important than others\n",
    "* Once the signal is passed from the input variables to the Neuron , neuron does two things\n",
    "    -   Calculate and stores the weighted sum of the input variables\n",
    "    -   Perform activation function in these variable's weighte sum."
   ]
  },
  {
   "cell_type": "markdown",
   "metadata": {},
   "source": [
    "* Activation Function\n",
    "\n",
    "    -   Thresold Function \n",
    "        - This is a simple function , where the output is basically binary , 1 or 0. If the weighted sum value of input variable comes as less than zero then it passes on 0 in the output value/next neuron\n",
    "        - If the value turns out more than 0 then we pass 1 to the ouput value/next neuron\n",
    "    -   Sigmoid Function \n",
    "        - Unlike Thresold function , the sigmoid function's separation is curved and here any output value that comes below zero gets dropped off and value more than is calculated in near aproximity of 1.\n",
    "    -   Rectifier Function\n",
    "        - In this function the graph from 0 to 1 is a linear growth curve , however the section of 0 remains flat..\n",
    "    -   Hyperbolic Tangent Function(tanh)\n",
    "        - This function is similar to the sigmoid function but in here the classification is not bound within 0 and 1. In spreads from 1,0,-1\n",
    "\n",
    "* Generic Statement -\n",
    "    -   In the hidden layer , rectifier activation function is used\n",
    "    -   In the output layer we use sigmoid fuction.\n",
    "\n",
    "* ANN Learning Process -\n",
    "    -   Back Propagation - neural networks predicts an out put , the same out is compared with actual data present. The differnece between actual and predicted forms the cost function. To reduce the cost function and improve the accuracy of the model the neurons send data backwards to the input layer , where weights/co efficient values of input varibles are adjusted to reduce cost function."
   ]
  }
 ],
 "metadata": {
  "kernelspec": {
   "display_name": "Python 3",
   "language": "python",
   "name": "python3"
  },
  "language_info": {
   "name": "python",
   "version": "3.9.13"
  },
  "orig_nbformat": 4,
  "vscode": {
   "interpreter": {
    "hash": "c715fae038ea3023ce1b7da7ba9885d98010e1b6ab84c7b957e0940952b2221c"
   }
  }
 },
 "nbformat": 4,
 "nbformat_minor": 2
}
