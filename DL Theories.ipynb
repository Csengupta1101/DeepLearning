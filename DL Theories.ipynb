{
 "cells": [
  {
   "attachments": {},
   "cell_type": "markdown",
   "metadata": {},
   "source": [
    "#### Deep Learning\n",
    "\n",
    "DL is a machine learning technique where it learns about the feature and tasks directly from the data , we do not need to do any manual feature extraction , and these data can be images , texts and sounds."
   ]
  },
  {
   "attachments": {},
   "cell_type": "markdown",
   "metadata": {},
   "source": [
    "#### Weighted Summation"
   ]
  },
  {
   "attachments": {},
   "cell_type": "markdown",
   "metadata": {},
   "source": [
    "#### Activation Function"
   ]
  },
  {
   "attachments": {},
   "cell_type": "markdown",
   "metadata": {},
   "source": [
    "1. Linear\n",
    "2. Heviside step \n",
    "3. Sigmoid"
   ]
  },
  {
   "attachments": {},
   "cell_type": "markdown",
   "metadata": {},
   "source": [
    "#### Linear \n",
    "\n",
    "f(v) = a+v - a(bias) , v (weighted sum) \n",
    "\n",
    "#### Heviside Step\n",
    "\n",
    "f(v) = either 1 or 0 - (1 if v>=a 0 otherwise) (a = thresold level) (v = weighted sum)\n",
    "\n",
    "#### Sigmoid function\n",
    "\n",
    "f(v) = 1/1+e(-v) (v = weighted sum)\n",
    "\n"
   ]
  },
  {
   "attachments": {},
   "cell_type": "markdown",
   "metadata": {},
   "source": [
    "#### Feed Forward Network\n",
    "\n",
    "*   More hidden layers ensures more accuracy and precision\n",
    "*   In this type of network no loops are created , feeds are forwarded without iterations\n",
    "*   Output node takes heviside step as output activation function\n"
   ]
  },
  {
   "attachments": {},
   "cell_type": "markdown",
   "metadata": {},
   "source": [
    "#### Feedback Network\n",
    "\n",
    "*   Allows loops and feedbacks\n",
    "*   Allows both side direction movement of information\n",
    "*   Complex to implement. "
   ]
  },
  {
   "cell_type": "markdown",
   "metadata": {},
   "source": []
  }
 ],
 "metadata": {
  "kernelspec": {
   "display_name": "Python 3",
   "language": "python",
   "name": "python3"
  },
  "language_info": {
   "name": "python",
   "version": "3.9.13"
  },
  "orig_nbformat": 4,
  "vscode": {
   "interpreter": {
    "hash": "c715fae038ea3023ce1b7da7ba9885d98010e1b6ab84c7b957e0940952b2221c"
   }
  }
 },
 "nbformat": 4,
 "nbformat_minor": 2
}
